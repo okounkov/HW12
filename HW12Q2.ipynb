{
 "cells": [
  {
   "cell_type": "code",
   "execution_count": 71,
   "metadata": {},
   "outputs": [
    {
     "name": "stdout",
     "output_type": "stream",
     "text": [
      "status: optimal\n",
      "fire station location: [4.88041509 4.90032512]\n",
      "minimum longest distance: 5.798487257610159\n"
     ]
    }
   ],
   "source": [
    "import numpy as np\n",
    "from cvxpy import *\n",
    "\n",
    "z = Variable()\n",
    "# fire station location\n",
    "u = Variable(2)\n",
    "# village locations\n",
    "np.random.seed(0)\n",
    "V = np.random.rand(20,2) * 10\n",
    "\n",
    "max_dist = Minimize(z)\n",
    "constraints = [norm(V - reshape(u, (1,2)), axis=1) <= z]\n",
    "prob = Problem(max_dist, constraints)\n",
    "optimal = prob.solve()\n",
    "print('status:', prob.status)\n",
    "print('fire station location:', u.value)\n",
    "print('minimum longest distance:', optimal)\n",
    "# print(V)\n"
   ]
  }
 ],
 "metadata": {
  "kernelspec": {
   "display_name": "Python 3.7.13 ('isye6669')",
   "language": "python",
   "name": "python3"
  },
  "language_info": {
   "codemirror_mode": {
    "name": "ipython",
    "version": 3
   },
   "file_extension": ".py",
   "mimetype": "text/x-python",
   "name": "python",
   "nbconvert_exporter": "python",
   "pygments_lexer": "ipython3",
   "version": "3.7.13"
  },
  "orig_nbformat": 4,
  "vscode": {
   "interpreter": {
    "hash": "b04e44e6ad142c19810865fe361d736711cd7f9214d43d9ffcc6751bae8a38d0"
   }
  }
 },
 "nbformat": 4,
 "nbformat_minor": 2
}
