{
 "cells": [
  {
   "cell_type": "code",
   "execution_count": 7,
   "metadata": {},
   "outputs": [],
   "source": [
    "import numpy as np\n",
    "from numpy import linalg as la\n",
    "\n",
    "A = np.array([[-6, 7, 8],\n",
    "              [7, -8, 9],\n",
    "              [8, 9, -10]])\n",
    "\n",
    "B = np.array([[0, 1, 2],\n",
    "              [1, 2, 3],\n",
    "              [2, 3, 4]])\n",
    "\n",
    "C = np.array([[-10, 9, 8],\n",
    "              [9, -8, 7],\n",
    "              [8, 7, -12]])"
   ]
  },
  {
   "cell_type": "code",
   "execution_count": 8,
   "metadata": {},
   "outputs": [],
   "source": [
    "B_A = B - A\n",
    "A_C = A - C\n",
    "w_BA,_ = la.eig(B_A)\n",
    "w_AC,_ = la.eig(A_C)"
   ]
  },
  {
   "cell_type": "code",
   "execution_count": 13,
   "metadata": {},
   "outputs": [
    {
     "name": "stdout",
     "output_type": "stream",
     "text": [
      "[[ 6 -6 -6]\n",
      " [-6 10 -6]\n",
      " [-6 -6 14]]\n",
      "[[ 4 -2  0]\n",
      " [-2  0  2]\n",
      " [ 0  2  2]]\n"
     ]
    }
   ],
   "source": [
    "# check symmetry\n",
    "print(B_A)\n",
    "print(A_C)"
   ]
  },
  {
   "cell_type": "code",
   "execution_count": 14,
   "metadata": {},
   "outputs": [
    {
     "name": "stdout",
     "output_type": "stream",
     "text": [
      "Eigenvalues B - A [-2.58300524 14.         18.58300524]\n",
      "Eigenvalues A - C [-1.75877048  5.06417777  2.69459271]\n"
     ]
    }
   ],
   "source": [
    "print('Eigenvalues B - A', w_BA)\n",
    "print('Eigenvalues A - C', w_AC)"
   ]
  }
 ],
 "metadata": {
  "kernelspec": {
   "display_name": "Python 3.7.13 ('isye6669')",
   "language": "python",
   "name": "python3"
  },
  "language_info": {
   "codemirror_mode": {
    "name": "ipython",
    "version": 3
   },
   "file_extension": ".py",
   "mimetype": "text/x-python",
   "name": "python",
   "nbconvert_exporter": "python",
   "pygments_lexer": "ipython3",
   "version": "3.7.13"
  },
  "orig_nbformat": 4,
  "vscode": {
   "interpreter": {
    "hash": "b04e44e6ad142c19810865fe361d736711cd7f9214d43d9ffcc6751bae8a38d0"
   }
  }
 },
 "nbformat": 4,
 "nbformat_minor": 2
}
